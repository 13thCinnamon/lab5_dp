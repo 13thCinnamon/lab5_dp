{
 "cells": [
  {
   "cell_type": "markdown",
   "metadata": {},
   "source": [
    "# Лабораторная работа №5\n",
    "### Описание столбцов для предоставленных данных:\n",
    "\n",
    "1. name: Название фильма\n",
    "2. score: Средниц балл пользователей на IMDb\n",
    "3. ganre1: Жанр 1\n",
    "4. genre2: Жанр 2\n",
    "5. genre3: Жанр 3\n",
    "6. duration: Длительность фильма в минутах\n",
    "7. realease: Дата выпуска фильма\n",
    "8. rating: Возрасной рейтинг фильма в США\n",
    "9. country: Страна\n",
    "10. language: Язык\n",
    "11. soung: Звуковая технология\n",
    "12. color: Цвет или ч/б\n",
    "13. ratio: Рейтинг фильма\n",
    "14. budget: Бюджет\n",
    "15. gross: Сборы\n",
    "16. badReviews: Негативные отзывы\n",
    "17. neutralReviews: Нейтральные отзывы\n",
    "18. goodReviews: Положительные отзывы\n",
    "\n",
    "### Типы данных столбцов:\n",
    "\n",
    "1. name: строковый\n",
    "2. score: вещественный\n",
    "3. ganre1: строковый\n",
    "4. genre2: строковый\n",
    "5. genre3: строковый\n",
    "6. duration: целочисленный\n",
    "7. realease: дата\n",
    "8. rating: строковый\n",
    "9. country: строковый\n",
    "10. language: строковый\n",
    "11. soung: строковый\n",
    "12. color: строковый\n",
    "13. ratio: строковый\n",
    "14. budget: строковый\n",
    "15. gross: строковый\n",
    "16. badReviews: целочисленный\n",
    "17. neutralReviews: целочисленный\n",
    "18. goodReviews: целочисленный"
   ]
  },
  {
   "cell_type": "markdown",
   "metadata": {},
   "source": [
    "### Подключение данных и вывод таблицы"
   ]
  },
  {
   "cell_type": "code",
   "execution_count": 5,
   "metadata": {},
   "outputs": [
    {
     "name": "stdout",
     "output_type": "stream",
     "text": [
      "                    name  score  genre1 genre2 genre3  duration   \n",
      "0        Cadena perpetua    9.3   Drama    NaN    NaN       142  \\\n",
      "1             El padrino    9.2   Crime  Drama    NaN       175   \n",
      "2   El padrino: Parte II    9.0   Crime  Drama    NaN       202   \n",
      "3    El caballero oscuro    9.0  Action  Crime  Drama       152   \n",
      "4  12 hombres sin piedad    9.0   Crime  Drama    NaN        96   \n",
      "\n",
      "            release rating country language   \n",
      "0  24 February 1995     13     USA  English  \\\n",
      "1   20 October 1972     18     USA  English   \n",
      "2   13 October 1975     18     USA  English   \n",
      "3    13 August 2008     12     USA  English   \n",
      "4     10 April 1957      A     USA  English   \n",
      "\n",
      "                                 sound            color     ratio   \n",
      "0                        Dolby Digital            Color  1.85 : 1  \\\n",
      "1                             DTS|Mono            Color  1.85 : 1   \n",
      "2                                 Mono            Color  1.85 : 1   \n",
      "3  Dolby Digital|SDDS|DTS|IMAX 6-Track            Color  2.39 : 1   \n",
      "4                                 Mono  Black and White  1.66 : 1   \n",
      "\n",
      "         budget           gross  badReviews  neutralReviews  goodReviews  \n",
      "0   $25,000,000     $28,817,291         240             473         7764  \n",
      "1    $6,000,000    $246,120,986         228             257         3603  \n",
      "2   $13,000,000     $48,035,783          38              85          910  \n",
      "3  $185,000,000  $1,005,973,645         548             715         5908  \n",
      "4      $350,000            $955          31             100         1537  \n",
      "<class 'pandas.core.frame.DataFrame'>\n",
      "RangeIndex: 250 entries, 0 to 249\n",
      "Data columns (total 18 columns):\n",
      " #   Column          Non-Null Count  Dtype  \n",
      "---  ------          --------------  -----  \n",
      " 0   name            250 non-null    object \n",
      " 1   score           250 non-null    float64\n",
      " 2   genre1          250 non-null    object \n",
      " 3   genre2          225 non-null    object \n",
      " 4   genre3          155 non-null    object \n",
      " 5   duration        250 non-null    int64  \n",
      " 6   release         250 non-null    object \n",
      " 7   rating          238 non-null    object \n",
      " 8   country         250 non-null    object \n",
      " 9   language        243 non-null    object \n",
      " 10  sound           249 non-null    object \n",
      " 11  color           250 non-null    object \n",
      " 12  ratio           248 non-null    object \n",
      " 13  budget          220 non-null    object \n",
      " 14  gross           237 non-null    object \n",
      " 15  badReviews      250 non-null    int64  \n",
      " 16  neutralReviews  250 non-null    int64  \n",
      " 17  goodReviews     250 non-null    int64  \n",
      "dtypes: float64(1), int64(4), object(13)\n",
      "memory usage: 35.3+ KB\n",
      "None\n"
     ]
    }
   ],
   "source": [
    "import pandas as pd\n",
    "import numpy as np\n",
    "\n",
    "dataSet = './movies.csv'\n",
    "df = pd.read_csv(dataSet)\n",
    "\n",
    "print(df.head())\n",
    "print(df.info())"
   ]
  },
  {
   "cell_type": "markdown",
   "metadata": {},
   "source": [
    "### Вывод первых 5 элементов таблицы"
   ]
  },
  {
   "cell_type": "code",
   "execution_count": 4,
   "metadata": {},
   "outputs": [
    {
     "name": "stdout",
     "output_type": "stream",
     "text": [
      "                    name  score  genre1 genre2 genre3  duration   \n",
      "0        Cadena perpetua    9.3   Drama    NaN    NaN       142  \\\n",
      "1             El padrino    9.2   Crime  Drama    NaN       175   \n",
      "2   El padrino: Parte II    9.0   Crime  Drama    NaN       202   \n",
      "3    El caballero oscuro    9.0  Action  Crime  Drama       152   \n",
      "4  12 hombres sin piedad    9.0   Crime  Drama    NaN        96   \n",
      "\n",
      "            release rating country language   \n",
      "0  24 February 1995     13     USA  English  \\\n",
      "1   20 October 1972     18     USA  English   \n",
      "2   13 October 1975     18     USA  English   \n",
      "3    13 August 2008     12     USA  English   \n",
      "4     10 April 1957      A     USA  English   \n",
      "\n",
      "                                 sound            color     ratio   \n",
      "0                        Dolby Digital            Color  1.85 : 1  \\\n",
      "1                             DTS|Mono            Color  1.85 : 1   \n",
      "2                                 Mono            Color  1.85 : 1   \n",
      "3  Dolby Digital|SDDS|DTS|IMAX 6-Track            Color  2.39 : 1   \n",
      "4                                 Mono  Black and White  1.66 : 1   \n",
      "\n",
      "         budget           gross  badReviews  neutralReviews  goodReviews  \n",
      "0   $25,000,000     $28,817,291         240             473         7764  \n",
      "1    $6,000,000    $246,120,986         228             257         3603  \n",
      "2   $13,000,000     $48,035,783          38              85          910  \n",
      "3  $185,000,000  $1,005,973,645         548             715         5908  \n",
      "4      $350,000            $955          31             100         1537  \n"
     ]
    }
   ],
   "source": [
    "print(df.head())"
   ]
  },
  {
   "cell_type": "markdown",
   "metadata": {},
   "source": [
    "### Вывод последних 5 элементов таблицы"
   ]
  },
  {
   "cell_type": "code",
   "execution_count": 5,
   "metadata": {},
   "outputs": [
    {
     "name": "stdout",
     "output_type": "stream",
     "text": [
      "                                               name  score     genre1   \n",
      "245                               Sucedió una noche    8.1     Comedy  \\\n",
      "246                           Milagro en la celda 7    8.2      Drama   \n",
      "247                                      Mandarinas    8.2      Drama   \n",
      "248  Neon Genesis Evangelion: The End of Evangelion    8.1  Animation   \n",
      "249                             La batalla de Argel    8.1      Drama   \n",
      "\n",
      "      genre2 genre3  duration           release rating  country  language   \n",
      "245  Romance    NaN       105  22 February 1934      A      USA   English  \\\n",
      "246      NaN    NaN       132     13 March 2020     12   Turkey   Turkish   \n",
      "247      War    NaN        87   17 October 2013     12  Estonia  Estonian   \n",
      "248   Action  Drama        87      21 June 2019     18    Japan  Japanese   \n",
      "249      War    NaN       121       1 June 1978     18    Italy    Arabic   \n",
      "\n",
      "                                     sound            color     ratio   \n",
      "245                                   Mono  Black and White  1.37 : 1  \\\n",
      "246                                 Stereo            Color  2.35 : 1   \n",
      "247                          Dolby Digital            Color  2.35 : 1   \n",
      "248  Dolby Digital|DTS-ES|Dolby Digital EX            Color  1.85 : 1   \n",
      "249                                   Mono  Black and White  1.85 : 1   \n",
      "\n",
      "         budget        gross  badReviews  neutralReviews  goodReviews  \n",
      "245    $325,000          NaN          11              39          224  \n",
      "246         NaN  $17,163,660          15              19          341  \n",
      "247  EUR650,000   $1,024,132           6              11           81  \n",
      "248         NaN          NaN          23              20          128  \n",
      "249    $800,000     $964,028           8              53          211  \n"
     ]
    }
   ],
   "source": [
    "print(df.tail())"
   ]
  },
  {
   "cell_type": "markdown",
   "metadata": {},
   "source": [
    "###  использовать функцию describe()"
   ]
  },
  {
   "cell_type": "code",
   "execution_count": 6,
   "metadata": {},
   "outputs": [
    {
     "name": "stdout",
     "output_type": "stream",
     "text": [
      "            score    duration   badReviews  neutralReviews  goodReviews\n",
      "count  250.000000  250.000000   250.000000      250.000000   250.000000\n",
      "mean     8.304000  129.944000   102.204000      138.312000   848.772000\n",
      "std      0.221677   32.567829   162.440234      172.861503  1082.402775\n",
      "min      8.100000   45.000000     0.000000       10.000000    35.000000\n",
      "25%      8.100000  108.000000    17.000000       45.250000   275.500000\n",
      "50%      8.200000  127.000000    37.500000       84.000000   559.500000\n",
      "75%      8.400000  145.750000   120.000000      156.750000  1002.000000\n",
      "max      9.300000  321.000000  1245.000000     1549.000000  8343.000000\n"
     ]
    }
   ],
   "source": [
    "print(df.describe())"
   ]
  },
  {
   "cell_type": "markdown",
   "metadata": {},
   "source": [
    "### считывание значения конкретной ячейки (с конкретным индексом из конкретной колонки) всеми известными вам способами"
   ]
  },
  {
   "cell_type": "code",
   "execution_count": 8,
   "metadata": {},
   "outputs": [
    {
     "name": "stdout",
     "output_type": "stream",
     "text": [
      "Cadena perpetua\n",
      "English\n",
      "English\n"
     ]
    }
   ],
   "source": [
    "print(df.iloc[0, 0])\n",
    "print(df.at[0, 'language'])\n",
    "print(df.loc[0, 'language'])"
   ]
  },
  {
   "cell_type": "markdown",
   "metadata": {},
   "source": [
    "### фильтрация строк по диапазону индекса"
   ]
  },
  {
   "cell_type": "code",
   "execution_count": 9,
   "metadata": {},
   "outputs": [
    {
     "name": "stdout",
     "output_type": "stream",
     "text": [
      "                                       name  score     genre1     genre2   \n",
      "10                      El club de la lucha    8.8      Drama        NaN  \\\n",
      "11                             Forrest Gump    8.8      Drama    Romance   \n",
      "12                                   Origen    8.8     Action  Adventure   \n",
      "13  El señor de los anillos: Las dos torres    8.7     Action  Adventure   \n",
      "14                   El Imperio contraataca    8.7     Action  Adventure   \n",
      "15                                   Matrix    8.7     Action     Sci-Fi   \n",
      "16                      Uno de los nuestros    8.7  Biography      Crime   \n",
      "17      Alguien voló sobre el nido del cuco    8.7      Drama        NaN   \n",
      "18                       Los siete samuráis    8.6     Action  Adventure   \n",
      "19                                    Seven    8.6      Crime      Drama   \n",
      "20                         La vida es bella    8.6     Comedy      Drama   \n",
      "\n",
      "     genre3  duration            release rating      country  language   \n",
      "10      NaN       139    5 November 1999     18      Germany   English  \\\n",
      "11      NaN       142  23 September 1994      A          USA   English   \n",
      "12   Sci-Fi       148      6 August 2010     12          USA   English   \n",
      "13    Drama       179   18 December 2002     12  New Zealand   English   \n",
      "14  Fantasy       124     3 October 1980      A          USA   English   \n",
      "15      NaN       136       23 June 1999     18          USA   English   \n",
      "16    Drama       146    19 October 1990     18          USA   English   \n",
      "17      NaN       133     7 October 1976     18          USA   English   \n",
      "18    Drama       207      26 April 1954      A        Japan  Japanese   \n",
      "19  Mystery       127    10 January 1996     18          USA   English   \n",
      "20  Romance       116   26 February 1999      A        Italy   Italian   \n",
      "\n",
      "                                                sound            color   \n",
      "10                             Dolby Digital|DTS|SDDS            Color  \\\n",
      "11        DTS|Dolby SR|SDDS|Dolby Atmos|Dolby Digital            Color   \n",
      "12                             Dolby Digital|DTS|SDDS            Color   \n",
      "13           DTS-ES|Dolby Digital EX|SDDS|Dolby Atmos            Color   \n",
      "14  70 mm 6-Track|Dolby Stereo|Dolby Digital EX|DT...            Color   \n",
      "15                 DTS|Dolby Digital|SDDS|Dolby Atmos            Color   \n",
      "16                                           Dolby SR            Color   \n",
      "17                                               Mono            Color   \n",
      "18                                        Mono|Stereo  Black and White   \n",
      "19                                  DTS|Dolby Digital            Color   \n",
      "20                                      Dolby Digital            Color   \n",
      "\n",
      "       ratio          budget         gross  badReviews  neutralReviews   \n",
      "10  2.39 : 1     $63,000,000  $101,209,593         272             279  \\\n",
      "11  2.39 : 1     $55,000,000  $678,226,133         176             158   \n",
      "12  2.39 : 1    $160,000,000  $836,836,967         530             538   \n",
      "13  2.39 : 1     $94,000,000  $943,495,095         183             231   \n",
      "14  2.20 : 1     $18,000,000  $538,375,067          26              92   \n",
      "15  2.39 : 1     $63,000,000  $466,364,845         322             415   \n",
      "16  1.85 : 1     $25,000,000   $46,952,991          62             111   \n",
      "17  1.85 : 1      $3,000,000  $108,997,629          53              94   \n",
      "18  1.33 : 1  JPY125,000,000      $322,773          30              61   \n",
      "19  2.39 : 1     $33,000,000  $327,333,559         114             170   \n",
      "20  1.85 : 1     $20,000,000  $230,098,753         122              84   \n",
      "\n",
      "    goodReviews  \n",
      "10         2854  \n",
      "11         2076  \n",
      "12         3035  \n",
      "13         1708  \n",
      "14         1058  \n",
      "15         2941  \n",
      "16         1085  \n",
      "17          796  \n",
      "18          591  \n",
      "19         1127  \n",
      "20          958  \n"
     ]
    }
   ],
   "source": [
    "print(df.loc[10:20])"
   ]
  },
  {
   "cell_type": "markdown",
   "metadata": {},
   "source": [
    "### Фильтрация набора данных по какому-либо условию"
   ]
  },
  {
   "cell_type": "code",
   "execution_count": 11,
   "metadata": {},
   "outputs": [
    {
     "name": "stdout",
     "output_type": "stream",
     "text": [
      "                                            name  score     genre1     genre2   \n",
      "2                           El padrino: Parte II    9.0      Crime      Drama  \\\n",
      "6    El señor de los anillos: El retorno del rey    8.9     Action  Adventure   \n",
      "18                            Los siete samuráis    8.6     Action  Adventure   \n",
      "71                      Érase una vez en América    8.4      Crime      Drama   \n",
      "168                    Lo que el viento se llevó    8.1      Drama    History   \n",
      "210                                      Ben-Hur    8.1  Adventure      Drama   \n",
      "227                           Gangs of Wasseypur    8.2     Action     Comedy   \n",
      "232        La Liga de la Justicia de Zack Snyder    8.2     Action  Adventure   \n",
      "\n",
      "      genre3  duration           release rating      country  language   \n",
      "2        NaN       202   13 October 1975     18          USA   English  \\\n",
      "6      Drama       201  17 December 2003     12  New Zealand   English   \n",
      "18     Drama       207     26 April 1954      A        Japan  Japanese   \n",
      "71       NaN       229   24 January 1985     18        Italy   English   \n",
      "168  Romance       238   17 January 1940      A          USA   English   \n",
      "210  History       212  18 November 1959      A          USA   English   \n",
      "227    Crime       321      22 June 2012     16        India     Hindi   \n",
      "232  Fantasy       242     18 March 2021     16          USA   English   \n",
      "\n",
      "                                        sound            color     ratio   \n",
      "2                                        Mono            Color  1.85 : 1  \\\n",
      "6    DTS-ES|Dolby Digital EX|SDDS|Dolby Atmos            Color  2.39 : 1   \n",
      "18                                Mono|Stereo  Black and White  1.33 : 1   \n",
      "71                                       Mono            Color  1.85 : 1   \n",
      "168                                      Mono            Color  1.37 : 1   \n",
      "210                            6-Track Stereo            Color  2.66 : 1   \n",
      "227                  Dolby Digital EX|Datasat            Color  2.35 : 1   \n",
      "232                 Dolby Digital|Dolby Atmos            Color  1.33 : 1   \n",
      "\n",
      "             budget           gross  badReviews  neutralReviews  goodReviews  \n",
      "2       $13,000,000     $48,035,783          38              85          910  \n",
      "6       $94,000,000  $1,142,563,940         237             275         2918  \n",
      "18   JPY125,000,000        $322,773          30              61          591  \n",
      "71      $30,000,000      $5,472,914         106              96          431  \n",
      "168      $3,977,000    $402,352,579          85             105          580  \n",
      "210     $15,000,000     $74,427,638          24              37          348  \n",
      "227  INR184,000,000      $4,384,642          19              31          207  \n",
      "232             NaN             NaN         482             594         6113  \n"
     ]
    }
   ],
   "source": [
    "print(df[df['duration'] > 200])"
   ]
  },
  {
   "cell_type": "markdown",
   "metadata": {},
   "source": [
    "### Работа с пропущенными значениями (если они есть): удаление строк с пропущенными значениями, заполнение пропущенных значений средним значением по колонке. Если пропущенных значений нет — намеренно их \"генерируете\", прибивая какие-то куски данных в np.nan"
   ]
  },
  {
   "cell_type": "code",
   "execution_count": 13,
   "metadata": {},
   "outputs": [
    {
     "name": "stdout",
     "output_type": "stream",
     "text": [
      "            score    duration   badReviews  neutralReviews  goodReviews\n",
      "count  250.000000  250.000000   250.000000      250.000000   250.000000\n",
      "mean     8.304000  129.944000   102.204000      138.312000   848.772000\n",
      "std      0.221677   32.567829   162.440234      172.861503  1082.402775\n",
      "min      8.100000   45.000000     0.000000       10.000000    35.000000\n",
      "25%      8.100000  108.000000    17.000000       45.250000   275.500000\n",
      "50%      8.200000  127.000000    37.500000       84.000000   559.500000\n",
      "75%      8.400000  145.750000   120.000000      156.750000  1002.000000\n",
      "max      9.300000  321.000000  1245.000000     1549.000000  8343.000000\n",
      "           score    duration   badReviews  neutralReviews  goodReviews\n",
      "count  126.00000  126.000000   126.000000      126.000000   126.000000\n",
      "mean     8.30873  132.777778   132.357143      171.626984   975.420635\n",
      "std      0.21015   34.027257   201.951973      213.084086  1129.077098\n",
      "min      8.10000   81.000000     2.000000       23.000000   143.000000\n",
      "25%      8.10000  110.250000    23.000000       59.250000   429.750000\n",
      "50%      8.30000  129.000000    51.500000      108.000000   662.500000\n",
      "75%      8.40000  148.750000   129.750000      179.500000  1076.750000\n",
      "max      9.00000  321.000000  1245.000000     1549.000000  8343.000000\n"
     ]
    }
   ],
   "source": [
    "# генерация пропущенных строк\n",
    "data = np.random.rand(1000, 5)\n",
    "mask = np.random.choice([True, False], size=data.shape, p=[0.05, 0.95])\n",
    "data[mask] = np.nan\n",
    "\n",
    "print(df.describe())\n",
    "\n",
    "# Заполнение пропущенных значений в колонке mpg средним значением\n",
    "mean_score = df['score'].mean()\n",
    "df['score'].fillna(mean_score, inplace=True)\n",
    "\n",
    "# удаление пропущенных строк\n",
    "df.dropna(inplace=True)\n",
    "\n",
    "print(df.describe())"
   ]
  },
  {
   "cell_type": "markdown",
   "metadata": {},
   "source": [
    "### Cоздание нового поля вычисленного на основе значений других полей:"
   ]
  },
  {
   "cell_type": "code",
   "execution_count": 26,
   "metadata": {},
   "outputs": [
    {
     "name": "stdout",
     "output_type": "stream",
     "text": [
      "                                                 name  allReviews   \n",
      "3                                 El caballero oscuro        7171  \\\n",
      "5                               La lista de Schindler        1758   \n",
      "6         El señor de los anillos: El retorno del rey        3430   \n",
      "9    El señor de los anillos: La comunidad del anillo        4782   \n",
      "12                                             Origen        4103   \n",
      "..                                                ...         ...   \n",
      "226                                      Hotel Rwanda         606   \n",
      "227                                Gangs of Wasseypur         257   \n",
      "230                                   Monstruos, S.A.         580   \n",
      "234                     Nausicaä del Valle del Viento         232   \n",
      "236                                            Rebeca         319   \n",
      "\n",
      "    score_category  \n",
      "3             high  \n",
      "5           medium  \n",
      "6           medium  \n",
      "9           medium  \n",
      "12          medium  \n",
      "..             ...  \n",
      "226            low  \n",
      "227            low  \n",
      "230            low  \n",
      "234            low  \n",
      "236            low  \n",
      "\n",
      "[126 rows x 3 columns]\n"
     ]
    }
   ],
   "source": [
    "# Через выражение на базе имеющихся колонок\n",
    "df['allReviews'] = df['badReviews'] + df['neutralReviews'] + df['goodReviews']\n",
    "\n",
    "\n",
    "# Через Series.apply\n",
    "def classify_score(score):\n",
    "    if score < 1000:\n",
    "        return 'low'\n",
    "    elif score < 5000:\n",
    "        return 'medium'\n",
    "    else:\n",
    "        return 'high'\n",
    "\n",
    "df['score_category'] = df['score'].apply(classify_score)\n",
    "\n",
    "print(df[['name', 'allReviews', 'score_category']])"
   ]
  },
  {
   "cell_type": "markdown",
   "metadata": {},
   "source": [
    "### Сортировка по какому-либо из полей"
   ]
  },
  {
   "cell_type": "code",
   "execution_count": 27,
   "metadata": {},
   "outputs": [
    {
     "name": "stdout",
     "output_type": "stream",
     "text": [
      "                               name  score     genre1     genre2     genre3   \n",
      "75              Vengadores: Endgame   9075     Action  Adventure      Drama  \\\n",
      "61                            Joker  10805      Crime      Drama   Thriller   \n",
      "28                     Interstellar   4389  Adventure      Drama     Sci-Fi   \n",
      "205  Mad Max: Furia en la carretera   2092     Action  Adventure     Sci-Fi   \n",
      "3               El caballero oscuro   7171     Action      Crime      Drama   \n",
      "..                              ...    ...        ...        ...        ...   \n",
      "234   Nausicaä del Valle del Viento    232  Animation  Adventure    Fantasy   \n",
      "116                  El apartamento    318     Comedy      Drama    Romance   \n",
      "65                 Testigo de cargo    262      Crime      Drama    Mystery   \n",
      "118                       Perdición    385      Crime      Drama  Film-Noir   \n",
      "131              Children of Heaven    177      Drama     Family      Sport   \n",
      "\n",
      "     duration           release rating    country  language   \n",
      "75       9075     25 April 2019      7        USA   English  \\\n",
      "61      10805    4 October 2019     18        USA   English   \n",
      "28       4389   7 November 2014     12        USA   English   \n",
      "205      2092       15 May 2015     16  Australia   English   \n",
      "3        7171    13 August 2008     12        USA   English   \n",
      "..        ...               ...    ...        ...       ...   \n",
      "234       232       7 June 1988      7      Japan  Japanese   \n",
      "116       318      29 June 1960     13        USA   English   \n",
      "65        262  13 November 1958      A        USA   English   \n",
      "118       385       6 July 1944      A        USA   English   \n",
      "131       177    8 October 1999     13       Iran   Persian   \n",
      "\n",
      "                                                 sound            color   \n",
      "75   Dolby Atmos|Auro 11.1|Dolby Surround 7.1|DTS|D...            Color  \\\n",
      "61              SDDS|Dolby Atmos|Datasat|Dolby Digital            Color   \n",
      "28   Datasat|Dolby Digital|IMAX 6-Track|Dolby Surro...            Color   \n",
      "205             Dolby Digital|Datasat|SDDS|Dolby Atmos            Color   \n",
      "3                  Dolby Digital|SDDS|DTS|IMAX 6-Track            Color   \n",
      "..                                                 ...              ...   \n",
      "234                                       Dolby Stereo            Color   \n",
      "116                                               Mono  Black and White   \n",
      "65                                                Mono  Black and White   \n",
      "118                                               Mono  Black and White   \n",
      "131                                               Mono            Color   \n",
      "\n",
      "        ratio        budget           gross  badReviews  neutralReviews   \n",
      "75   2.39 : 1  $356,000,000  $2,797,501,328        1245            1549  \\\n",
      "61   1.85 : 1   $55,000,000  $1,074,251,311        1195            1267   \n",
      "28   2.39 : 1  $165,000,000    $701,729,127         694             650   \n",
      "205  2.39 : 1  $150,000,000    $376,127,771         563             348   \n",
      "3    2.39 : 1  $185,000,000  $1,005,973,645         548             715   \n",
      "..        ...           ...             ...         ...             ...   \n",
      "234  1.85 : 1    $1,000,000      $8,736,506           7              46   \n",
      "116  2.39 : 1    $3,000,000     $18,778,454           7              46   \n",
      "65   1.66 : 1    $3,000,000          $7,693           4              34   \n",
      "118  1.37 : 1      $927,262         $13,886           3              57   \n",
      "131  1.85 : 1      $180,000        $933,933           2              23   \n",
      "\n",
      "     goodReviews  allReviews score_category  \n",
      "75          6281        9075           high  \n",
      "61          8343       10805           high  \n",
      "28          3045        4389         medium  \n",
      "205         1181        2092         medium  \n",
      "3           5908        7171           high  \n",
      "..           ...         ...            ...  \n",
      "234          179         232            low  \n",
      "116          265         318            low  \n",
      "65           224         262            low  \n",
      "118          325         385            low  \n",
      "131          152         177            low  \n",
      "\n",
      "[126 rows x 20 columns]\n"
     ]
    }
   ],
   "source": [
    "df_sorted = df.sort_values('badReviews', ascending=False)\n",
    "print(df_sorted)"
   ]
  },
  {
   "cell_type": "markdown",
   "metadata": {},
   "source": [
    "### Вычислить несколько статистик по колонкам (используйте встроенные агрегатные функции — любые на выбор)"
   ]
  },
  {
   "cell_type": "code",
   "execution_count": 32,
   "metadata": {},
   "outputs": [
    {
     "name": "stdout",
     "output_type": "stream",
     "text": [
      "score          1279.404762\n",
      "goodReviews     975.420635\n",
      "dtype: float64\n",
      "score          914.5\n",
      "goodReviews    662.5\n",
      "dtype: float64\n",
      "score          10805\n",
      "goodReviews     8343\n",
      "dtype: int64\n"
     ]
    }
   ],
   "source": [
    "print(df[['score', 'goodReviews']].mean())\n",
    "print(df[['score', 'goodReviews']].median())\n",
    "print(df[['score', 'goodReviews']].max())"
   ]
  },
  {
   "cell_type": "markdown",
   "metadata": {},
   "source": [
    "### value_counts()"
   ]
  },
  {
   "cell_type": "code",
   "execution_count": 33,
   "metadata": {},
   "outputs": [
    {
     "name": "stdout",
     "output_type": "stream",
     "text": [
      "rating\n",
      "A           37\n",
      "18          23\n",
      "13          21\n",
      "12          18\n",
      "16          12\n",
      "7           12\n",
      "(Banned)     1\n",
      "7/i          1\n",
      "14           1\n",
      "Name: count, dtype: int64\n"
     ]
    }
   ],
   "source": [
    "print(df['rating'].value_counts())"
   ]
  },
  {
   "cell_type": "markdown",
   "metadata": {},
   "source": [
    "### Вывод уникальных значений колонки через .unique()"
   ]
  },
  {
   "cell_type": "code",
   "execution_count": 34,
   "metadata": {},
   "outputs": [
    {
     "name": "stdout",
     "output_type": "stream",
     "text": [
      "['12' 'A' '18' '13' '16' '7' '(Banned)' '7/i' '14']\n"
     ]
    }
   ],
   "source": [
    "print(df['rating'].unique())"
   ]
  },
  {
   "cell_type": "markdown",
   "metadata": {},
   "source": [
    "### Удалите текущий индекс и создайте новый индекс на базе новой колонки, которая для этого лучше всего подходит"
   ]
  },
  {
   "cell_type": "code",
   "execution_count": 6,
   "metadata": {},
   "outputs": [],
   "source": [
    "df = df.reset_index(inplace= False)\n",
    "df = df.set_index('name')"
   ]
  }
 ],
 "metadata": {
  "kernelspec": {
   "display_name": "Python 3 (ipykernel)",
   "language": "python",
   "name": "python3"
  },
  "language_info": {
   "codemirror_mode": {
    "name": "ipython",
    "version": 3
   },
   "file_extension": ".py",
   "mimetype": "text/x-python",
   "name": "python",
   "nbconvert_exporter": "python",
   "pygments_lexer": "ipython3",
   "version": "3.11.3"
  }
 },
 "nbformat": 4,
 "nbformat_minor": 2
}
